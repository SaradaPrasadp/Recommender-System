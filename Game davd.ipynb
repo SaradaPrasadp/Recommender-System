{
 "cells": [
  {
   "cell_type": "code",
   "execution_count": 1,
   "metadata": {},
   "outputs": [],
   "source": [
    "import pandas as pd\n",
    "from sklearn.feature_extraction.text import TfidfVectorizer\n",
    "from sklearn.metrics.pairwise import linear_kernel"
   ]
  },
  {
   "cell_type": "code",
   "execution_count": 2,
   "metadata": {},
   "outputs": [
    {
     "name": "stdout",
     "output_type": "stream",
     "text": [
      "Index(['userId', 'game', 'rating'], dtype='object')\n"
     ]
    },
    {
     "data": {
      "text/plain": [
       "0       The Legend of Zelda: Ocarina of Time\n",
       "1                   Tony Hawk's Pro Skater 2\n",
       "2                        Grand Theft Auto IV\n",
       "3                                SoulCalibur\n",
       "4                        Grand Theft Auto IV\n",
       "                        ...                 \n",
       "4995                            Donut County\n",
       "4996                  MotorStorm: Apocalypse\n",
       "4997                            The Last Guy\n",
       "4998           Valiant Hearts: The Great War\n",
       "4999                           Mothergunship\n",
       "Name: game, Length: 5000, dtype: object"
      ]
     },
     "execution_count": 2,
     "metadata": {},
     "output_type": "execute_result"
    }
   ],
   "source": [
    "game = pd.read_csv(\"game.csv\")\n",
    "print(game.columns)\n",
    "\n",
    "game.game"
   ]
  },
  {
   "cell_type": "code",
   "execution_count": 3,
   "metadata": {},
   "outputs": [
    {
     "data": {
      "text/plain": [
       "(5000, 3068)"
      ]
     },
     "execution_count": 3,
     "metadata": {},
     "output_type": "execute_result"
    }
   ],
   "source": [
    "# Creating a Tfidf Vectorizer to remove all stop words\n",
    "tfidf = TfidfVectorizer(stop_words = \"english\")   \n",
    "\n",
    "# Preparing the Tfidf matrix by fitting and transforming\n",
    "tfidf_matrix = tfidf.fit_transform(game.game)   #Transform a count matrix to a normalized tf or tf-idf representation\n",
    "tfidf_matrix.shape "
   ]
  },
  {
   "cell_type": "code",
   "execution_count": 4,
   "metadata": {},
   "outputs": [
    {
     "data": {
      "text/plain": [
       "array([[1., 0., 0., ..., 0., 0., 0.],\n",
       "       [0., 1., 0., ..., 0., 0., 0.],\n",
       "       [0., 0., 1., ..., 0., 0., 0.],\n",
       "       ...,\n",
       "       [0., 0., 0., ..., 1., 0., 0.],\n",
       "       [0., 0., 0., ..., 0., 1., 0.],\n",
       "       [0., 0., 0., ..., 0., 0., 1.]])"
      ]
     },
     "execution_count": 4,
     "metadata": {},
     "output_type": "execute_result"
    }
   ],
   "source": [
    "#we have to find similarity score , here we will calculate the cosine simalarity.\n",
    "#cosine(x,y)= (x.y⊺)/(||x||.||y||)\n",
    "\n",
    "# Computing the cosine similarity on Tfidf matrix\n",
    "cosine_sim_matrix = linear_kernel(tfidf_matrix, tfidf_matrix)\n",
    "cosine_sim_matrix"
   ]
  },
  {
   "cell_type": "code",
   "execution_count": 15,
   "metadata": {},
   "outputs": [
    {
     "data": {
      "text/plain": [
       "game\n",
       "Grand Theft Auto IV      2\n",
       "Grand Theft Auto IV      4\n",
       "Grand Theft Auto IV    474\n",
       "dtype: int64"
      ]
     },
     "execution_count": 15,
     "metadata": {},
     "output_type": "execute_result"
    }
   ],
   "source": [
    "#creating mapping\n",
    "game_index = pd.Series(game.index, index = game['game']).drop_duplicates()\n",
    "game_index\n",
    "userId = game_index[\"Grand Theft Auto IV\"]\n",
    "userId"
   ]
  },
  {
   "cell_type": "code",
   "execution_count": 16,
   "metadata": {},
   "outputs": [],
   "source": [
    "def get_recommendations(Name, topN):    \n",
    "    \n",
    "    userId = game_index[Name]\n",
    "    \n",
    "    cosine_scores = list(enumerate(cosine_sim_matrix[userId]))\n",
    "    \n",
    "    \n",
    "    cosine_scores = sorted(cosine_scores, key=lambda x:x[1], reverse = True)\n",
    "    \n",
    "    \n",
    "    cosine_scores_N = cosine_scores[0: topN+1]\n",
    "    \n",
    "     \n",
    "    game_idx  =  [i[0] for i in cosine_scores_N]\n",
    "    game_scores =  [i[1] for i in cosine_scores_N]\n",
    "    \n",
    "    # Similar movies and scores\n",
    "    game_similar_show = pd.DataFrame(columns=[\"game\", \"Score\"])\n",
    "    game_similar_show[\"game\"] = game.loc[game_idx, \"game\"]\n",
    "    game_similar_show[\"Score\"] = game_scores\n",
    "    game_similar_show.reset_index(inplace = True)  \n",
    "   \n",
    "    print (game_similar_show)\n",
    "    "
   ]
  },
  {
   "cell_type": "code",
   "execution_count": 18,
   "metadata": {},
   "outputs": [
    {
     "name": "stdout",
     "output_type": "stream",
     "text": [
      "   index                                        game     Score\n",
      "0      5                          Super Mario Galaxy  1.000000\n",
      "1      6                        Super Mario Galaxy 2  1.000000\n",
      "2    202    Super Mario World: Super Mario Advance 2  0.623041\n",
      "3     90  Super Mario Advance 4: Super Mario Bros. 3  0.600099\n",
      "4   1856                         Super Mario Advance  0.544555\n",
      "5    106                              Super Mario 64  0.525323\n"
     ]
    }
   ],
   "source": [
    "# Enter your anime and number of anime's to be recommended \n",
    "get_recommendations(\"Super Mario Galaxy 2\", topN = 5)\n"
   ]
  }
 ],
 "metadata": {
  "kernelspec": {
   "display_name": "Python 3",
   "language": "python",
   "name": "python3"
  },
  "language_info": {
   "codemirror_mode": {
    "name": "ipython",
    "version": 3
   },
   "file_extension": ".py",
   "mimetype": "text/x-python",
   "name": "python",
   "nbconvert_exporter": "python",
   "pygments_lexer": "ipython3",
   "version": "3.8.5"
  }
 },
 "nbformat": 4,
 "nbformat_minor": 4
}
