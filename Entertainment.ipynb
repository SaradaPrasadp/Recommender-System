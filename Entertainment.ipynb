{
 "cells": [
  {
   "cell_type": "code",
   "execution_count": 2,
   "metadata": {},
   "outputs": [],
   "source": [
    "import pandas as pd\n",
    "from sklearn.feature_extraction.text import TfidfVectorizer\n",
    "from sklearn.metrics.pairwise import linear_kernel"
   ]
  },
  {
   "cell_type": "code",
   "execution_count": 7,
   "metadata": {},
   "outputs": [
    {
     "name": "stdout",
     "output_type": "stream",
     "text": [
      "Index(['Id', 'Titles', 'Category', 'Reviews'], dtype='object')\n"
     ]
    },
    {
     "data": {
      "text/plain": [
       "0                  Drama, Romance, School, Supernatural\n",
       "1     Action, Adventure, Drama, Fantasy, Magic, Mili...\n",
       "2     Action, Comedy, Historical, Parody, Samurai, S...\n",
       "3                                      Sci-Fi, Thriller\n",
       "4     Action, Comedy, Historical, Parody, Samurai, S...\n",
       "5                Comedy, Drama, School, Shounen, Sports\n",
       "6               Action, Adventure, Shounen, Super Power\n",
       "7                        Drama, Military, Sci-Fi, Space\n",
       "8     Action, Comedy, Historical, Parody, Samurai, S...\n",
       "9     Action, Comedy, Historical, Parody, Samurai, S...\n",
       "10    Drama, Fantasy, Romance, Slice of Life, Supern...\n",
       "11                               Drama, School, Shounen\n",
       "12    Action, Comedy, Historical, Parody, Samurai, S...\n",
       "13    Action, Drama, Mecha, Military, Sci-Fi, Super ...\n",
       "14               Comedy, Drama, School, Shounen, Sports\n",
       "15                       Adventure, Drama, Supernatural\n",
       "16               Drama, Music, Romance, School, Shounen\n",
       "17    Adventure, Fantasy, Historical, Mystery, Seine...\n",
       "18                               Fantasy, Slice of Life\n",
       "19    Action, Mecha, Military, School, Sci-Fi, Super...\n",
       "20                       Comedy, Drama, Shounen, Sports\n",
       "21    Action, Drama, Historical, Martial Arts, Roman...\n",
       "22      Action, Adventure, Comedy, Drama, Sci-Fi, Space\n",
       "23    Action, Comedy, Parody, Sci-Fi, Seinen, Super ...\n",
       "24                           Action, Adventure, Fantasy\n",
       "25    Comedy, Mystery, Romance, School, Sci-Fi, Supe...\n",
       "26      Comedy, Mystery, Romance, Supernatural, Vampire\n",
       "27    Adventure, Fantasy, Historical, Mystery, Seine...\n",
       "28    Adventure, Fantasy, Historical, Mystery, Seine...\n",
       "29             Action, Adventure, Comedy, Mecha, Sci-Fi\n",
       "30        Comedy, Drama, School, Shounen, Slice of Life\n",
       "31    Drama, Fantasy, Shoujo, Slice of Life, Superna...\n",
       "32                       Comedy, Drama, Shounen, Sports\n",
       "33    Adventure, Fantasy, Historical, Mystery, Seine...\n",
       "34    Drama, Fantasy, Shoujo, Slice of Life, Superna...\n",
       "35                   Adventure, Drama, Fantasy, Romance\n",
       "36              Action, Fantasy, Supernatural, Thriller\n",
       "37               Action, Mystery, Supernatural, Vampire\n",
       "38    Drama, Horror, Mystery, Police, Psychological,...\n",
       "39                      Comedy, Drama, Romance, Shounen\n",
       "40    Mystery, Police, Psychological, Supernatural, ...\n",
       "41                                       Comedy, Parody\n",
       "42                      Action, Comedy, School, Shounen\n",
       "43               Comedy, Drama, School, Shounen, Sports\n",
       "44                       Comedy, Drama, Shounen, Sports\n",
       "45    Action, Drama, Mystery, Romance, Supernatural,...\n",
       "46    Drama, Fantasy, Shoujo, Slice of Life, Superna...\n",
       "47                        Psychological, Seinen, Sports\n",
       "48    Adventure, Fantasy, Historical, Mystery, Seine...\n",
       "49         Mystery, Psychological, Seinen, Supernatural\n",
       "50                      Mystery, Psychological, Romance\n",
       "Name: Category, dtype: object"
      ]
     },
     "execution_count": 7,
     "metadata": {},
     "output_type": "execute_result"
    }
   ],
   "source": [
    "entertainment = pd.read_csv(\"Entertainment.csv\", encoding = \"utf8\")\n",
    "print(entertainment.columns)\n",
    "entertainment.Category"
   ]
  },
  {
   "cell_type": "code",
   "execution_count": 12,
   "metadata": {},
   "outputs": [
    {
     "data": {
      "text/plain": [
       "0"
      ]
     },
     "execution_count": 12,
     "metadata": {},
     "output_type": "execute_result"
    }
   ],
   "source": [
    "#let's see is there any null value or not.\n",
    "entertainment[\"Category\"].isnull().sum()\n",
    "#so there is no null value. so need to imputation."
   ]
  },
  {
   "cell_type": "code",
   "execution_count": 13,
   "metadata": {},
   "outputs": [
    {
     "data": {
      "text/plain": [
       "(51, 34)"
      ]
     },
     "execution_count": 13,
     "metadata": {},
     "output_type": "execute_result"
    }
   ],
   "source": [
    "# Creating a Tfidf Vectorizer to remove all stop words\n",
    "tfidf = TfidfVectorizer(stop_words = \"english\")   \n",
    "\n",
    "# Preparing the Tfidf matrix by fitting and transforming\n",
    "tfidf_matrix = tfidf.fit_transform(entertainment.Category)   #Transform a count matrix to a normalized tf or tf-idf representation\n",
    "tfidf_matrix.shape "
   ]
  },
  {
   "cell_type": "code",
   "execution_count": 17,
   "metadata": {},
   "outputs": [
    {
     "data": {
      "text/plain": [
       "array([[1.        , 0.09421367, 0.        , ..., 0.12767481, 0.16772551,\n",
       "        0.31295101],\n",
       "       [0.09421367, 1.        , 0.16662513, ..., 0.22332745, 0.        ,\n",
       "        0.        ],\n",
       "       [0.        , 0.16662513, 1.        , ..., 0.13383076, 0.        ,\n",
       "        0.        ],\n",
       "       ...,\n",
       "       [0.12767481, 0.22332745, 0.13383076, ..., 1.        , 0.47083158,\n",
       "        0.17020003],\n",
       "       [0.16772551, 0.        , 0.        , ..., 0.47083158, 1.        ,\n",
       "        0.64107498],\n",
       "       [0.31295101, 0.        , 0.        , ..., 0.17020003, 0.64107498,\n",
       "        1.        ]])"
      ]
     },
     "execution_count": 17,
     "metadata": {},
     "output_type": "execute_result"
    }
   ],
   "source": [
    "#we have to find similarity score , here we will calculate the cosine simalarity.\n",
    "#cosine(x,y)= (x.y⊺)/(||x||.||y||)\n",
    "\n",
    "# Computing the cosine similarity on Tfidf matrix\n",
    "cosine_sim_matrix = linear_kernel(tfidf_matrix, tfidf_matrix)\n",
    "cosine_sim_matrix"
   ]
  },
  {
   "cell_type": "code",
   "execution_count": 23,
   "metadata": {},
   "outputs": [
    {
     "data": {
      "text/plain": [
       "5"
      ]
     },
     "execution_count": 23,
     "metadata": {},
     "output_type": "execute_result"
    }
   ],
   "source": [
    "#creating mapping\n",
    "entertainment_index = pd.Series(entertainment.index, index = entertainment['Titles']).drop_duplicates()\n",
    "\n",
    "ent_id = entertainment_index[\"Heat (1995)\"]\n",
    "ent_id"
   ]
  },
  {
   "cell_type": "code",
   "execution_count": 33,
   "metadata": {},
   "outputs": [],
   "source": [
    "#Creating a custom function for getting recommendation.\n",
    "\n",
    "def get_recommendations(Name, topN):    \n",
    "    # topN = 10 \n",
    "   \n",
    "    ent_id = entertainment_index[Name]\n",
    "    \n",
    "    cosine_scores = list(enumerate(cosine_sim_matrix[ent_id]))\n",
    "    \n",
    "   \n",
    "    cosine_scores = sorted(cosine_scores, key=lambda x:x[1], reverse = True)\n",
    "    \n",
    "   \n",
    "    cosine_scores_N = cosine_scores[0: topN+1]\n",
    "    \n",
    "    # Getting the movie index \n",
    "    ent_idx  =  [i[0] for i in cosine_scores_N]\n",
    "    ent_scores =  [i[1] for i in cosine_scores_N]\n",
    "    \n",
    "    # Similar movies and scores\n",
    "    ent_similar_show = pd.DataFrame(columns=[\"Titles\", \"Score\"])\n",
    "    ent_similar_show[\"Titles\"] = entertainment.loc[ent_idx, \"Titles\"]\n",
    "    ent_similar_show[\"Score\"] = ent_scores\n",
    "    ent_similar_show.reset_index(inplace = True)  \n",
    "   \n",
    "    print (ent_similar_show)\n",
    "  "
   ]
  },
  {
   "cell_type": "code",
   "execution_count": 34,
   "metadata": {},
   "outputs": [
    {
     "name": "stdout",
     "output_type": "stream",
     "text": [
      "   index                       Titles  Score\n",
      "0      5                  Heat (1995)    1.0\n",
      "1     14      Cutthroat Island (1995)    1.0\n",
      "2     43  Seven (a.k.a. Se7en) (1995)    1.0\n"
     ]
    }
   ],
   "source": [
    "get_recommendations(\"Heat (1995)\", topN = 2)"
   ]
  }
 ],
 "metadata": {
  "kernelspec": {
   "display_name": "Python 3",
   "language": "python",
   "name": "python3"
  },
  "language_info": {
   "codemirror_mode": {
    "name": "ipython",
    "version": 3
   },
   "file_extension": ".py",
   "mimetype": "text/x-python",
   "name": "python",
   "nbconvert_exporter": "python",
   "pygments_lexer": "ipython3",
   "version": "3.8.5"
  }
 },
 "nbformat": 4,
 "nbformat_minor": 4
}
